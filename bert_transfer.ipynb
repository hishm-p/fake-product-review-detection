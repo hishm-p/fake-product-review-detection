{
 "cells": [
  {
   "cell_type": "code",
   "execution_count": null,
   "metadata": {},
   "outputs": [],
   "source": [
    "# !pip install tensorflow-text\n",
    "# !pip install tf-models-official"
   ]
  },
  {
   "cell_type": "code",
   "execution_count": 1,
   "metadata": {},
   "outputs": [],
   "source": [
    "import tensorflow as tf\n",
    "from tensorflow import keras\n",
    "import tensorflow_hub as hub\n",
    "import tensorflow_text as text\n",
    "from official.nlp import optimization\n",
    "\n",
    "import numpy as np\n",
    "import pandas as pd\n",
    "from sklearn.model_selection import train_test_split"
   ]
  },
  {
   "cell_type": "code",
   "execution_count": null,
   "metadata": {},
   "outputs": [],
   "source": [
    "#from google.colab import drive\n",
    "#drive.mount('/content/drive', force_remount=True)"
   ]
  },
  {
   "cell_type": "markdown",
   "id": "wG0IuIoYDmuy",
   "metadata": {
    "id": "wG0IuIoYDmuy"
   },
   "source": [
    "**Importing Dataset and Feature Class and Target Class**"
   ]
  },
  {
   "cell_type": "code",
   "execution_count": 3,
   "metadata": {},
   "outputs": [],
   "source": [
    "#df = pd.read_csv(\"/content/drive/MyDrive/deceptiveopinion/preprocess.csv\", index_col=0)\n",
    "df = pd.read_csv(\"preprocess.csv\", index_col=0)\n",
    "X = df['Ori_Review']\n",
    "y = df['label']"
   ]
  },
  {
   "cell_type": "code",
   "execution_count": 4,
   "metadata": {},
   "outputs": [
    {
     "data": {
      "text/html": [
       "<div>\n",
       "<style scoped>\n",
       "    .dataframe tbody tr th:only-of-type {\n",
       "        vertical-align: middle;\n",
       "    }\n",
       "\n",
       "    .dataframe tbody tr th {\n",
       "        vertical-align: top;\n",
       "    }\n",
       "\n",
       "    .dataframe thead th {\n",
       "        text-align: right;\n",
       "    }\n",
       "</style>\n",
       "<table border=\"1\" class=\"dataframe\">\n",
       "  <thead>\n",
       "    <tr style=\"text-align: right;\">\n",
       "      <th></th>\n",
       "      <th>rating</th>\n",
       "      <th>label</th>\n",
       "      <th>Ori_Review</th>\n",
       "    </tr>\n",
       "    <tr>\n",
       "      <th>category</th>\n",
       "      <th></th>\n",
       "      <th></th>\n",
       "      <th></th>\n",
       "    </tr>\n",
       "  </thead>\n",
       "  <tbody>\n",
       "    <tr>\n",
       "      <th>Home_and_Kitchen_5</th>\n",
       "      <td>5</td>\n",
       "      <td>1</td>\n",
       "      <td>Love this!  Well made, sturdy, and very comfor...</td>\n",
       "    </tr>\n",
       "    <tr>\n",
       "      <th>Home_and_Kitchen_5</th>\n",
       "      <td>5</td>\n",
       "      <td>1</td>\n",
       "      <td>love it, a great upgrade from the original.  I...</td>\n",
       "    </tr>\n",
       "    <tr>\n",
       "      <th>Home_and_Kitchen_5</th>\n",
       "      <td>5</td>\n",
       "      <td>1</td>\n",
       "      <td>This pillow saved my back. I love the look and...</td>\n",
       "    </tr>\n",
       "    <tr>\n",
       "      <th>Home_and_Kitchen_5</th>\n",
       "      <td>1</td>\n",
       "      <td>1</td>\n",
       "      <td>Missing information on how to use it, but it i...</td>\n",
       "    </tr>\n",
       "    <tr>\n",
       "      <th>Home_and_Kitchen_5</th>\n",
       "      <td>5</td>\n",
       "      <td>1</td>\n",
       "      <td>Very nice set. Good quality. We have had the s...</td>\n",
       "    </tr>\n",
       "  </tbody>\n",
       "</table>\n",
       "</div>"
      ],
      "text/plain": [
       "                    rating  label  \\\n",
       "category                            \n",
       "Home_and_Kitchen_5       5      1   \n",
       "Home_and_Kitchen_5       5      1   \n",
       "Home_and_Kitchen_5       5      1   \n",
       "Home_and_Kitchen_5       1      1   \n",
       "Home_and_Kitchen_5       5      1   \n",
       "\n",
       "                                                           Ori_Review  \n",
       "category                                                               \n",
       "Home_and_Kitchen_5  Love this!  Well made, sturdy, and very comfor...  \n",
       "Home_and_Kitchen_5  love it, a great upgrade from the original.  I...  \n",
       "Home_and_Kitchen_5  This pillow saved my back. I love the look and...  \n",
       "Home_and_Kitchen_5  Missing information on how to use it, but it i...  \n",
       "Home_and_Kitchen_5  Very nice set. Good quality. We have had the s...  "
      ]
     },
     "execution_count": 4,
     "metadata": {},
     "output_type": "execute_result"
    }
   ],
   "source": [
    "df.head()"
   ]
  },
  {
   "cell_type": "markdown",
   "metadata": {},
   "source": [
    "**Splitting the Data for Training and Testing**"
   ]
  },
  {
   "cell_type": "code",
   "execution_count": 5,
   "metadata": {},
   "outputs": [],
   "source": [
    "X_train, X_test, y_train, y_test = train_test_split(X, y, test_size=0.2, random_state=0)"
   ]
  },
  {
   "cell_type": "markdown",
   "metadata": {},
   "source": [
    "**Loading BERT pre-processing model from tensor flow hub** "
   ]
  }
 ],
 "metadata": {
  "kernelspec": {
   "display_name": "Python 3",
   "language": "python",
   "name": "python3"
  },
  "language_info": {
   "codemirror_mode": {
    "name": "ipython",
    "version": 3
   },
   "file_extension": ".py",
   "mimetype": "text/x-python",
   "name": "python",
   "nbconvert_exporter": "python",
   "pygments_lexer": "ipython3",
   "version": "3.10.2"
  },
  "orig_nbformat": 4,
  "vscode": {
   "interpreter": {
    "hash": "e9a5d080b17ca29b4a4317fac73e40ea35059fc3072628c3334e8f86468ea376"
   }
  }
 },
 "nbformat": 4,
 "nbformat_minor": 2
}
