{
 "cells": [
  {
   "cell_type": "code",
   "execution_count": null,
   "metadata": {},
   "outputs": [],
   "source": [
    "# !pip install tensorflow-text\n",
    "# !pip install tf-models-official"
   ]
  },
  {
   "cell_type": "code",
   "execution_count": 1,
   "metadata": {},
   "outputs": [],
   "source": [
    "import tensorflow as tf\n",
    "from tensorflow import keras\n",
    "import tensorflow_hub as hub\n",
    "import tensorflow_text as text\n",
    "from official.nlp import optimization\n",
    "\n",
    "import numpy as np\n",
    "import pandas as pd\n",
    "from sklearn.model_selection import train_test_split"
   ]
  },
  {
   "cell_type": "code",
   "execution_count": null,
   "metadata": {},
   "outputs": [],
   "source": [
    "#from google.colab import drive\n",
    "#drive.mount('/content/drive', force_remount=True)"
   ]
  },
  {
   "cell_type": "markdown",
   "id": "wG0IuIoYDmuy",
   "metadata": {
    "id": "wG0IuIoYDmuy"
   },
   "source": [
    "**Importing Dataset and Feature Class and Target Class**"
   ]
  },
  {
   "cell_type": "code",
   "execution_count": 3,
   "metadata": {},
   "outputs": [],
   "source": [
    "#df = pd.read_csv(\"/content/drive/MyDrive/deceptiveopinion/preprocess.csv\", index_col=0)\n",
    "df = pd.read_csv(\"preprocess.csv\", index_col=0)\n",
    "X = df['Ori_Review']\n",
    "y = df['label']"
   ]
  },
  {
   "cell_type": "code",
   "execution_count": 4,
   "metadata": {},
   "outputs": [
    {
     "data": {
      "text/html": [
       "<div>\n",
       "<style scoped>\n",
       "    .dataframe tbody tr th:only-of-type {\n",
       "        vertical-align: middle;\n",
       "    }\n",
       "\n",
       "    .dataframe tbody tr th {\n",
       "        vertical-align: top;\n",
       "    }\n",
       "\n",
       "    .dataframe thead th {\n",
       "        text-align: right;\n",
       "    }\n",
       "</style>\n",
       "<table border=\"1\" class=\"dataframe\">\n",
       "  <thead>\n",
       "    <tr style=\"text-align: right;\">\n",
       "      <th></th>\n",
       "      <th>rating</th>\n",
       "      <th>label</th>\n",
       "      <th>Ori_Review</th>\n",
       "    </tr>\n",
       "    <tr>\n",
       "      <th>category</th>\n",
       "      <th></th>\n",
       "      <th></th>\n",
       "      <th></th>\n",
       "    </tr>\n",
       "  </thead>\n",
       "  <tbody>\n",
       "    <tr>\n",
       "      <th>Home_and_Kitchen_5</th>\n",
       "      <td>5</td>\n",
       "      <td>1</td>\n",
       "      <td>Love this!  Well made, sturdy, and very comfor...</td>\n",
       "    </tr>\n",
       "    <tr>\n",
       "      <th>Home_and_Kitchen_5</th>\n",
       "      <td>5</td>\n",
       "      <td>1</td>\n",
       "      <td>love it, a great upgrade from the original.  I...</td>\n",
       "    </tr>\n",
       "    <tr>\n",
       "      <th>Home_and_Kitchen_5</th>\n",
       "      <td>5</td>\n",
       "      <td>1</td>\n",
       "      <td>This pillow saved my back. I love the look and...</td>\n",
       "    </tr>\n",
       "    <tr>\n",
       "      <th>Home_and_Kitchen_5</th>\n",
       "      <td>1</td>\n",
       "      <td>1</td>\n",
       "      <td>Missing information on how to use it, but it i...</td>\n",
       "    </tr>\n",
       "    <tr>\n",
       "      <th>Home_and_Kitchen_5</th>\n",
       "      <td>5</td>\n",
       "      <td>1</td>\n",
       "      <td>Very nice set. Good quality. We have had the s...</td>\n",
       "    </tr>\n",
       "  </tbody>\n",
       "</table>\n",
       "</div>"
      ],
      "text/plain": [
       "                    rating  label  \\\n",
       "category                            \n",
       "Home_and_Kitchen_5       5      1   \n",
       "Home_and_Kitchen_5       5      1   \n",
       "Home_and_Kitchen_5       5      1   \n",
       "Home_and_Kitchen_5       1      1   \n",
       "Home_and_Kitchen_5       5      1   \n",
       "\n",
       "                                                           Ori_Review  \n",
       "category                                                               \n",
       "Home_and_Kitchen_5  Love this!  Well made, sturdy, and very comfor...  \n",
       "Home_and_Kitchen_5  love it, a great upgrade from the original.  I...  \n",
       "Home_and_Kitchen_5  This pillow saved my back. I love the look and...  \n",
       "Home_and_Kitchen_5  Missing information on how to use it, but it i...  \n",
       "Home_and_Kitchen_5  Very nice set. Good quality. We have had the s...  "
      ]
     },
     "execution_count": 4,
     "metadata": {},
     "output_type": "execute_result"
    }
   ],
   "source": [
    "df.head()"
   ]
  },
  {
   "cell_type": "markdown",
   "metadata": {},
   "source": [
    "**Splitting the Data for Training and Testing**"
   ]
  },
  {
   "cell_type": "code",
   "execution_count": 5,
   "metadata": {},
   "outputs": [],
   "source": [
    "X_train, X_test, y_train, y_test = train_test_split(X, y, test_size=0.2, random_state=0)"
   ]
  },
  {
   "cell_type": "markdown",
   "metadata": {},
   "source": [
    "**Loading BERT pre-processing model from tensorflow hub** "
   ]
  },
  {
   "cell_type": "code",
   "execution_count": 6,
   "metadata": {},
   "outputs": [],
   "source": [
    "preprocessor = hub.load(\"https://tfhub.dev/tensorflow/bert_en_uncased_preprocess/3\")"
   ]
  },
  {
   "cell_type": "code",
   "execution_count": 7,
   "metadata": {},
   "outputs": [],
   "source": [
    "text_inputs = [keras.layers.Input(shape=(), dtype=tf.string)]\n",
    "tokenize = hub.KerasLayer(preprocessor.tokenize)\n",
    "tokenized_inputs = [tokenize(segment) for segment in text_inputs]\n",
    "\n",
    "seq_length = 512  # Set sequence length\n",
    "bert_pack_inputs = hub.KerasLayer(\n",
    "    preprocessor.bert_pack_inputs,\n",
    "    arguments=dict(seq_length=seq_length))\n",
    "\n",
    "preprocessed_text = bert_pack_inputs(tokenized_inputs)"
   ]
  },
  {
   "cell_type": "code",
   "execution_count": 8,
   "metadata": {},
   "outputs": [
    {
     "data": {
      "text/plain": [
       "{'input_type_ids': <KerasTensor: shape=(None, 512) dtype=int32 (created by layer 'keras_layer_1')>,\n",
       " 'input_word_ids': <KerasTensor: shape=(None, 512) dtype=int32 (created by layer 'keras_layer_1')>,\n",
       " 'input_mask': <KerasTensor: shape=(None, 512) dtype=int32 (created by layer 'keras_layer_1')>}"
      ]
     },
     "execution_count": 8,
     "metadata": {},
     "output_type": "execute_result"
    }
   ],
   "source": [
    "preprocessed_text"
   ]
  },
  {
   "cell_type": "code",
   "execution_count": 9,
   "metadata": {},
   "outputs": [
    {
     "data": {
      "text/plain": [
       "{'whiskers': [<matplotlib.lines.Line2D at 0x2315eee8dc0>,\n",
       "  <matplotlib.lines.Line2D at 0x2315eee9060>],\n",
       " 'caps': [<matplotlib.lines.Line2D at 0x2315eee9300>,\n",
       "  <matplotlib.lines.Line2D at 0x2315eee95a0>],\n",
       " 'boxes': [<matplotlib.lines.Line2D at 0x2315eee8b50>],\n",
       " 'medians': [<matplotlib.lines.Line2D at 0x2315eee9840>],\n",
       " 'fliers': [<matplotlib.lines.Line2D at 0x2315eee9ae0>],\n",
       " 'means': []}"
      ]
     },
     "execution_count": 9,
     "metadata": {},
     "output_type": "execute_result"
    },
    {
     "data": {
      "image/png": "[encoded data removed]",
      "text/plain": [
       "<Figure size 1200x480 with 2 Axes>"
      ]
     },
     "metadata": {},
     "output_type": "display_data"
    }
   ],
   "source": [
    "sizes = []\n",
    "tokens = tokenize(X_train)\n",
    "for i in range(tokens.shape[0]):\n",
    "  sizes.append(tokens[i].shape[0])\n",
    "\n",
    "from matplotlib import pyplot as plt\n",
    "\n",
    "fig, (ax1, ax2) = plt.subplots(1, 2)\n",
    "fig.set_figwidth(12)\n",
    "ax1.hist(sizes)\n",
    "ax2.boxplot(sizes)"
   ]
  },
  {
   "cell_type": "markdown",
   "metadata": {},
   "source": [
    "**Loading the BERT pre-trained model which provides dense vector representations for natural language by using a deep, pre-trained neural network.**"
   ]
  },
  {
   "cell_type": "code",
   "execution_count": null,
   "metadata": {},
   "outputs": [],
   "source": [
    "bert_encoder = hub.KerasLayer(\"https://tfhub.dev/tensorflow/bert_en_uncased_L-12_H-768_A-12/4\", trainable=True)"
   ]
  },
  {
   "cell_type": "code",
   "execution_count": null,
   "metadata": {},
   "outputs": [],
   "source": [
    "# Train all BERT layers as suggested by BERT developers\n",
    "bert_encoder.trainable = True\n",
    "\n",
    "# Bert layers\n",
    "outputs = bert_encoder(preprocessed_text)\n",
    "\n",
    "# Dense layers\n",
    "l = keras.layers.Dense(1, activation='sigmoid', name=\"output\") (outputs['pooled_output'])\n",
    "\n",
    "# Use inputs and outputs to construct a final model\n",
    "model = keras.Model(inputs=text_inputs, outputs = [l])"
   ]
  },
  {
   "cell_type": "code",
   "execution_count": null,
   "metadata": {},
   "outputs": [],
   "source": [
    "model.input_shape"
   ]
  },
  {
   "cell_type": "code",
   "execution_count": null,
   "metadata": {},
   "outputs": [],
   "source": [
    "epochs = 2\n",
    "batch_size = 8\n",
    "init_lr = 3e-5  # best of [5e-5, 3e-5, 2e-5]\n",
    "\n",
    "train_data_size = X_train.shape[0]\n",
    "steps_per_epoch = train_data_size // batch_size\n",
    "num_train_steps = steps_per_epoch * epochs\n",
    "num_warmup_steps = num_train_steps // 10\n",
    "\n",
    "test_data_size = X_test.shape[0]"
   ]
  },
  {
   "cell_type": "code",
   "execution_count": null,
   "metadata": {},
   "outputs": [],
   "source": [
    "optimizer = optimization.create_optimizer(\n",
    "      init_lr=init_lr,\n",
    "      num_train_steps=num_train_steps,\n",
    "      num_warmup_steps=num_warmup_steps,\n",
    "      optimizer_type='adamw')\n",
    "\n",
    "model.compile(optimizer=optimizer,\n",
    "              loss='binary_crossentropy',\n",
    "              metrics='accuracy')\n",
    "\n",
    "model.summary()"
   ]
  },
  {
   "cell_type": "markdown",
   "metadata": {},
   "source": [
    "**Training the Model**"
   ]
  },
  {
   "cell_type": "code",
   "execution_count": null,
   "metadata": {},
   "outputs": [],
   "source": [
    "bert_encoder.trainable = False\n",
    "model.fit(X_train,\n",
    "          y_train,\n",
    "          steps_per_epoch=steps_per_epoch,\n",
    "          epochs=epochs,\n",
    "          validation_data=(X_test, y_test))"
   ]
  },
  {
   "cell_type": "code",
   "execution_count": null,
   "metadata": {},
   "outputs": [],
   "source": [
    "prediction = model.predict(X_test)\n",
    "prediction_real = model.predict(X_test[y_test == 0])\n",
    "prediction_fake = model.predict(X_test[y_test == 1])"
   ]
  },
  {
   "cell_type": "code",
   "execution_count": null,
   "metadata": {},
   "outputs": [],
   "source": [
    "prediction_bi_real = prediction_real.copy()\n",
    "prediction_bi_real[np.where(prediction_real <= 0.5)] = 0\n",
    "prediction_bi_real[np.where(prediction_real > 0.5)] = 1\n",
    "print('True Positive Rate:', '{:.2%}'.format(1 - sum(prediction_bi_real)[0] / len(prediction_bi_real)))\n",
    "\n",
    "prediction_bi_fake = prediction_fake.copy()\n",
    "prediction_bi_fake[np.where(prediction_fake <= 0.5)] = 0\n",
    "prediction_bi_fake[np.where(prediction_fake > 0.5)] = 1\n",
    "print('True Negative Rate:', '{:.2%}'.format(sum(prediction_bi_fake)[0] / len(prediction_bi_fake)))"
   ]
  },
  {
   "cell_type": "code",
   "execution_count": null,
   "metadata": {},
   "outputs": [],
   "source": [
    "demo_ind = np.random.choice(len(X_test.index))\n",
    "realfake = 'Real' if y_test[demo_ind] == 0 else 'Fake'\n",
    "prediction = model.predict([X_test[demo_ind]])\n",
    "prediction_rf = 'Real' if prediction <= 0.5 else 'Fake'\n",
    "\n",
    "print(f'{realfake} review to be fed to model:\\n', X_test[demo_ind], '\\n')\n",
    "print(f'Model prediction: {prediction_rf}')"
   ]
  },
  {
   "cell_type": "code",
   "execution_count": null,
   "metadata": {},
   "outputs": [],
   "source": []
  }
 ],
 "metadata": {
  "kernelspec": {
   "display_name": "Python 3",
   "language": "python",
   "name": "python3"
  },
  "language_info": {
   "codemirror_mode": {
    "name": "ipython",
    "version": 3
   },
   "file_extension": ".py",
   "mimetype": "text/x-python",
   "name": "python",
   "nbconvert_exporter": "python",
   "pygments_lexer": "ipython3",
   "version": "3.10.2"
  },
  "orig_nbformat": 4,
  "vscode": {
   "interpreter": {
    "hash": "e9a5d080b17ca29b4a4317fac73e40ea35059fc3072628c3334e8f86468ea376"
   }
  }
 },
 "nbformat": 4,
 "nbformat_minor": 2
}
